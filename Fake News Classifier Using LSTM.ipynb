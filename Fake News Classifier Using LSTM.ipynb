{
 "cells": [
  {
   "cell_type": "code",
   "execution_count": 1,
   "id": "011740fc",
   "metadata": {},
   "outputs": [],
   "source": [
    "import pandas as pd\n",
    "import numpy as np"
   ]
  },
  {
   "cell_type": "code",
   "execution_count": 2,
   "id": "bb9e0f01",
   "metadata": {},
   "outputs": [
    {
     "data": {
      "text/html": [
       "<div>\n",
       "<style scoped>\n",
       "    .dataframe tbody tr th:only-of-type {\n",
       "        vertical-align: middle;\n",
       "    }\n",
       "\n",
       "    .dataframe tbody tr th {\n",
       "        vertical-align: top;\n",
       "    }\n",
       "\n",
       "    .dataframe thead th {\n",
       "        text-align: right;\n",
       "    }\n",
       "</style>\n",
       "<table border=\"1\" class=\"dataframe\">\n",
       "  <thead>\n",
       "    <tr style=\"text-align: right;\">\n",
       "      <th></th>\n",
       "      <th>title</th>\n",
       "      <th>author</th>\n",
       "      <th>text</th>\n",
       "      <th>label</th>\n",
       "    </tr>\n",
       "    <tr>\n",
       "      <th>id</th>\n",
       "      <th></th>\n",
       "      <th></th>\n",
       "      <th></th>\n",
       "      <th></th>\n",
       "    </tr>\n",
       "  </thead>\n",
       "  <tbody>\n",
       "    <tr>\n",
       "      <th>0</th>\n",
       "      <td>House Dem Aide: We Didn’t Even See Comey’s Let...</td>\n",
       "      <td>Darrell Lucus</td>\n",
       "      <td>House Dem Aide: We Didn’t Even See Comey’s Let...</td>\n",
       "      <td>1</td>\n",
       "    </tr>\n",
       "    <tr>\n",
       "      <th>1</th>\n",
       "      <td>FLYNN: Hillary Clinton, Big Woman on Campus - ...</td>\n",
       "      <td>Daniel J. Flynn</td>\n",
       "      <td>Ever get the feeling your life circles the rou...</td>\n",
       "      <td>0</td>\n",
       "    </tr>\n",
       "    <tr>\n",
       "      <th>2</th>\n",
       "      <td>Why the Truth Might Get You Fired</td>\n",
       "      <td>Consortiumnews.com</td>\n",
       "      <td>Why the Truth Might Get You Fired October 29, ...</td>\n",
       "      <td>1</td>\n",
       "    </tr>\n",
       "    <tr>\n",
       "      <th>3</th>\n",
       "      <td>15 Civilians Killed In Single US Airstrike Hav...</td>\n",
       "      <td>Jessica Purkiss</td>\n",
       "      <td>Videos 15 Civilians Killed In Single US Airstr...</td>\n",
       "      <td>1</td>\n",
       "    </tr>\n",
       "    <tr>\n",
       "      <th>4</th>\n",
       "      <td>Iranian woman jailed for fictional unpublished...</td>\n",
       "      <td>Howard Portnoy</td>\n",
       "      <td>Print \\nAn Iranian woman has been sentenced to...</td>\n",
       "      <td>1</td>\n",
       "    </tr>\n",
       "  </tbody>\n",
       "</table>\n",
       "</div>"
      ],
      "text/plain": [
       "                                                title              author  \\\n",
       "id                                                                          \n",
       "0   House Dem Aide: We Didn’t Even See Comey’s Let...       Darrell Lucus   \n",
       "1   FLYNN: Hillary Clinton, Big Woman on Campus - ...     Daniel J. Flynn   \n",
       "2                   Why the Truth Might Get You Fired  Consortiumnews.com   \n",
       "3   15 Civilians Killed In Single US Airstrike Hav...     Jessica Purkiss   \n",
       "4   Iranian woman jailed for fictional unpublished...      Howard Portnoy   \n",
       "\n",
       "                                                 text  label  \n",
       "id                                                            \n",
       "0   House Dem Aide: We Didn’t Even See Comey’s Let...      1  \n",
       "1   Ever get the feeling your life circles the rou...      0  \n",
       "2   Why the Truth Might Get You Fired October 29, ...      1  \n",
       "3   Videos 15 Civilians Killed In Single US Airstr...      1  \n",
       "4   Print \\nAn Iranian woman has been sentenced to...      1  "
      ]
     },
     "execution_count": 2,
     "metadata": {},
     "output_type": "execute_result"
    }
   ],
   "source": [
    "df=pd.read_csv('train.csv',index_col=0)\n",
    "df.head()"
   ]
  },
  {
   "cell_type": "code",
   "execution_count": 3,
   "id": "d0d913ff",
   "metadata": {},
   "outputs": [
    {
     "data": {
      "text/plain": [
       "(20800, 4)"
      ]
     },
     "execution_count": 3,
     "metadata": {},
     "output_type": "execute_result"
    }
   ],
   "source": [
    "df.shape"
   ]
  },
  {
   "cell_type": "code",
   "execution_count": 4,
   "id": "01728685",
   "metadata": {},
   "outputs": [
    {
     "data": {
      "text/plain": [
       "title      558\n",
       "author    1957\n",
       "text        39\n",
       "label        0\n",
       "dtype: int64"
      ]
     },
     "execution_count": 4,
     "metadata": {},
     "output_type": "execute_result"
    }
   ],
   "source": [
    "df.isnull().sum()"
   ]
  },
  {
   "cell_type": "code",
   "execution_count": 5,
   "id": "d33d57ee",
   "metadata": {},
   "outputs": [],
   "source": [
    "df.dropna(inplace=True)"
   ]
  },
  {
   "cell_type": "code",
   "execution_count": 6,
   "id": "1dc2e4cb",
   "metadata": {},
   "outputs": [
    {
     "data": {
      "text/plain": [
       "title     0\n",
       "author    0\n",
       "text      0\n",
       "label     0\n",
       "dtype: int64"
      ]
     },
     "execution_count": 6,
     "metadata": {},
     "output_type": "execute_result"
    }
   ],
   "source": [
    "df.isnull().sum()"
   ]
  },
  {
   "cell_type": "code",
   "execution_count": 7,
   "id": "b405215d",
   "metadata": {},
   "outputs": [],
   "source": [
    "df.reset_index(inplace=True)"
   ]
  },
  {
   "cell_type": "code",
   "execution_count": 8,
   "id": "8e49d165",
   "metadata": {},
   "outputs": [],
   "source": [
    "X=df.iloc[:,:-1]\n",
    "y=df.iloc[:,-1]"
   ]
  },
  {
   "cell_type": "markdown",
   "id": "70cc8932",
   "metadata": {},
   "source": [
    "## Text Preprocessing"
   ]
  },
  {
   "cell_type": "code",
   "execution_count": 9,
   "id": "a89ecd3c",
   "metadata": {},
   "outputs": [],
   "source": [
    "messages=X.copy() #deep copy"
   ]
  },
  {
   "cell_type": "code",
   "execution_count": 10,
   "id": "862ac225",
   "metadata": {},
   "outputs": [
    {
     "data": {
      "text/plain": [
       "0        House Dem Aide: We Didn’t Even See Comey’s Let...\n",
       "1        Ever get the feeling your life circles the rou...\n",
       "2        Why the Truth Might Get You Fired October 29, ...\n",
       "3        Videos 15 Civilians Killed In Single US Airstr...\n",
       "4        Print \\nAn Iranian woman has been sentenced to...\n",
       "                               ...                        \n",
       "18280    Rapper T. I. unloaded on black celebrities who...\n",
       "18281    When the Green Bay Packers lost to the Washing...\n",
       "18282    The Macy’s of today grew from the union of sev...\n",
       "18283    NATO, Russia To Hold Parallel Exercises In Bal...\n",
       "18284      David Swanson is an author, activist, journa...\n",
       "Name: text, Length: 18285, dtype: object"
      ]
     },
     "execution_count": 10,
     "metadata": {},
     "output_type": "execute_result"
    }
   ],
   "source": [
    "messages['text']"
   ]
  },
  {
   "cell_type": "code",
   "execution_count": 11,
   "id": "d7f7b53d",
   "metadata": {},
   "outputs": [],
   "source": [
    "import re\n",
    "import nltk\n",
    "from nltk.corpus import stopwords\n",
    "from nltk.stem import WordNetLemmatizer"
   ]
  },
  {
   "cell_type": "code",
   "execution_count": 12,
   "id": "425cebba",
   "metadata": {},
   "outputs": [
    {
     "name": "stderr",
     "output_type": "stream",
     "text": [
      "[nltk_data] Downloading package stopwords to\n",
      "[nltk_data]     C:\\Users\\anju9\\AppData\\Roaming\\nltk_data...\n",
      "[nltk_data]   Package stopwords is already up-to-date!\n"
     ]
    },
    {
     "data": {
      "text/plain": [
       "True"
      ]
     },
     "execution_count": 12,
     "metadata": {},
     "output_type": "execute_result"
    }
   ],
   "source": [
    "nltk.download('stopwords')"
   ]
  },
  {
   "cell_type": "code",
   "execution_count": 13,
   "id": "1237fef0",
   "metadata": {},
   "outputs": [],
   "source": [
    "lem=WordNetLemmatizer()\n",
    "corpus=[]\n",
    "for i in range(0,len(messages)):\n",
    "    review=re.sub('[^a-zA-Z]', ' ',messages['title'][i])\n",
    "    review=review.lower()\n",
    "    review=review.split()\n",
    "    \n",
    "    review=[lem.lemmatize(word) for word in review if not word in stopwords.words('english')]\n",
    "    review=' '.join(review)\n",
    "    corpus.append(review)"
   ]
  },
  {
   "cell_type": "code",
   "execution_count": 14,
   "id": "aff1e2ca",
   "metadata": {},
   "outputs": [
    {
     "data": {
      "text/plain": [
       "['house dem aide even see comey letter jason chaffetz tweeted',\n",
       " 'flynn hillary clinton big woman campus breitbart',\n",
       " 'truth might get fired',\n",
       " 'civilian killed single u airstrike identified',\n",
       " 'iranian woman jailed fictional unpublished story woman stoned death adultery']"
      ]
     },
     "execution_count": 14,
     "metadata": {},
     "output_type": "execute_result"
    }
   ],
   "source": [
    "corpus[:5]"
   ]
  },
  {
   "cell_type": "markdown",
   "id": "912b1771",
   "metadata": {},
   "source": [
    "## One hot representation"
   ]
  },
  {
   "cell_type": "code",
   "execution_count": 15,
   "id": "76dc6f42",
   "metadata": {},
   "outputs": [],
   "source": [
    "from tensorflow.keras.preprocessing.text import one_hot\n",
    "from tensorflow.keras.preprocessing.sequence import pad_sequences\n",
    "from tensorflow.keras.layers import Embedding,Dense,LSTM,Dropout\n",
    "from tensorflow.keras.models import Sequential"
   ]
  },
  {
   "cell_type": "code",
   "execution_count": 16,
   "id": "575ca460",
   "metadata": {},
   "outputs": [
    {
     "data": {
      "text/plain": [
       "[[1636, 863, 1908, 1494, 4956, 2665, 992, 1619, 1818, 1743],\n",
       " [4054, 3937, 3878, 2845, 1068, 1816, 3228],\n",
       " [545, 3700, 4074, 3278],\n",
       " [2986, 2929, 4621, 3087, 4291, 4815],\n",
       " [4421, 1068, 1248, 1018, 2859, 1288, 1068, 2722, 480, 2685]]"
      ]
     },
     "execution_count": 16,
     "metadata": {},
     "output_type": "execute_result"
    }
   ],
   "source": [
    "voc_size=5000\n",
    "one_hot_repr=[one_hot(words,voc_size) for words in corpus]\n",
    "one_hot_repr[:5]"
   ]
  },
  {
   "cell_type": "markdown",
   "id": "64f0a5a8",
   "metadata": {},
   "source": [
    "## Embedding Representation"
   ]
  },
  {
   "cell_type": "code",
   "execution_count": 17,
   "id": "2772e6c9",
   "metadata": {},
   "outputs": [
    {
     "data": {
      "text/plain": [
       "array([[   0,    0,    0, ..., 1619, 1818, 1743],\n",
       "       [   0,    0,    0, ..., 1068, 1816, 3228],\n",
       "       [   0,    0,    0, ..., 3700, 4074, 3278],\n",
       "       ...,\n",
       "       [   0,    0,    0, ..., 3666,  573, 4535],\n",
       "       [   0,    0,    0, ..., 2316, 4641, 2236],\n",
       "       [   0,    0,    0, ..., 1930, 4873, 2249]])"
      ]
     },
     "execution_count": 17,
     "metadata": {},
     "output_type": "execute_result"
    }
   ],
   "source": [
    "sent_len=20\n",
    "embedded_doc=pad_sequences(one_hot_repr,padding='pre',maxlen=sent_len)\n",
    "embedded_doc"
   ]
  },
  {
   "cell_type": "code",
   "execution_count": 18,
   "id": "cb89bdf4",
   "metadata": {},
   "outputs": [
    {
     "data": {
      "text/plain": [
       "array([   0,    0,    0,    0,    0,    0,    0,    0,    0,    0, 1636,\n",
       "        863, 1908, 1494, 4956, 2665,  992, 1619, 1818, 1743])"
      ]
     },
     "execution_count": 18,
     "metadata": {},
     "output_type": "execute_result"
    }
   ],
   "source": [
    "embedded_doc[0]"
   ]
  },
  {
   "cell_type": "markdown",
   "id": "f0920927",
   "metadata": {},
   "source": [
    "## Creating Model"
   ]
  },
  {
   "cell_type": "code",
   "execution_count": 19,
   "id": "97b0b326",
   "metadata": {},
   "outputs": [
    {
     "name": "stdout",
     "output_type": "stream",
     "text": [
      "Model: \"sequential\"\n",
      "_________________________________________________________________\n",
      " Layer (type)                Output Shape              Param #   \n",
      "=================================================================\n",
      " embedding (Embedding)       (None, 20, 40)            200000    \n",
      "                                                                 \n",
      " dropout (Dropout)           (None, 20, 40)            0         \n",
      "                                                                 \n",
      " lstm (LSTM)                 (None, 100)               56400     \n",
      "                                                                 \n",
      " dropout_1 (Dropout)         (None, 100)               0         \n",
      "                                                                 \n",
      " dense (Dense)               (None, 1)                 101       \n",
      "                                                                 \n",
      "=================================================================\n",
      "Total params: 256,501\n",
      "Trainable params: 256,501\n",
      "Non-trainable params: 0\n",
      "_________________________________________________________________\n"
     ]
    }
   ],
   "source": [
    "dim=40\n",
    "model=Sequential()\n",
    "model.add(Embedding(voc_size,dim,input_length=sent_len))\n",
    "model.add(Dropout(0.3))\n",
    "model.add(LSTM(100))\n",
    "model.add(Dropout(0.3))\n",
    "model.add(Dense(1,activation='sigmoid'))\n",
    "model.compile(loss='binary_crossentropy',optimizer='adam',metrics=['accuracy'])\n",
    "model.summary()"
   ]
  },
  {
   "cell_type": "code",
   "execution_count": 20,
   "id": "e88cb49b",
   "metadata": {},
   "outputs": [
    {
     "data": {
      "text/plain": [
       "(18285, (18285,))"
      ]
     },
     "execution_count": 20,
     "metadata": {},
     "output_type": "execute_result"
    }
   ],
   "source": [
    "len(embedded_doc),y.shape"
   ]
  },
  {
   "cell_type": "code",
   "execution_count": 21,
   "id": "f3b206c7",
   "metadata": {},
   "outputs": [],
   "source": [
    "X_final=np.array(embedded_doc)\n",
    "y_final=np.array(y)"
   ]
  },
  {
   "cell_type": "code",
   "execution_count": 22,
   "id": "e7999d16",
   "metadata": {},
   "outputs": [
    {
     "data": {
      "text/plain": [
       "((18285, 20), (18285,))"
      ]
     },
     "execution_count": 22,
     "metadata": {},
     "output_type": "execute_result"
    }
   ],
   "source": [
    "X_final.shape, y_final.shape"
   ]
  },
  {
   "cell_type": "code",
   "execution_count": 23,
   "id": "b2fbbb57",
   "metadata": {},
   "outputs": [],
   "source": [
    "from sklearn.model_selection import train_test_split\n",
    "X_train,X_test,y_train,y_test=train_test_split(X_final,y_final,test_size=0.2,random_state=42)"
   ]
  },
  {
   "cell_type": "code",
   "execution_count": 24,
   "id": "caa0d1b4",
   "metadata": {},
   "outputs": [
    {
     "name": "stdout",
     "output_type": "stream",
     "text": [
      "Epoch 1/20\n",
      "229/229 [==============================] - 12s 11ms/step - loss: 0.3294 - accuracy: 0.8375 - val_loss: 0.2037 - val_accuracy: 0.9117\n",
      "Epoch 2/20\n",
      "229/229 [==============================] - 2s 9ms/step - loss: 0.1485 - accuracy: 0.9411 - val_loss: 0.1977 - val_accuracy: 0.9215\n",
      "Epoch 3/20\n",
      "229/229 [==============================] - 2s 9ms/step - loss: 0.1085 - accuracy: 0.9606 - val_loss: 0.2176 - val_accuracy: 0.9177\n",
      "Epoch 4/20\n",
      "229/229 [==============================] - 2s 9ms/step - loss: 0.0762 - accuracy: 0.9725 - val_loss: 0.2251 - val_accuracy: 0.9196\n",
      "Epoch 5/20\n",
      "229/229 [==============================] - 2s 9ms/step - loss: 0.0545 - accuracy: 0.9820 - val_loss: 0.2612 - val_accuracy: 0.9180\n",
      "Epoch 6/20\n",
      "229/229 [==============================] - 2s 9ms/step - loss: 0.0402 - accuracy: 0.9868 - val_loss: 0.3129 - val_accuracy: 0.9171\n",
      "Epoch 7/20\n",
      "229/229 [==============================] - 2s 9ms/step - loss: 0.0315 - accuracy: 0.9893 - val_loss: 0.3486 - val_accuracy: 0.9185\n",
      "Epoch 8/20\n",
      "229/229 [==============================] - 2s 9ms/step - loss: 0.0240 - accuracy: 0.9923 - val_loss: 0.3832 - val_accuracy: 0.9122\n",
      "Epoch 9/20\n",
      "229/229 [==============================] - 2s 9ms/step - loss: 0.0219 - accuracy: 0.9931 - val_loss: 0.4343 - val_accuracy: 0.9117\n",
      "Epoch 10/20\n",
      "229/229 [==============================] - 2s 9ms/step - loss: 0.0164 - accuracy: 0.9950 - val_loss: 0.4798 - val_accuracy: 0.9130\n",
      "Epoch 11/20\n",
      "229/229 [==============================] - 2s 9ms/step - loss: 0.0137 - accuracy: 0.9953 - val_loss: 0.5355 - val_accuracy: 0.9078\n",
      "Epoch 12/20\n",
      "229/229 [==============================] - 2s 9ms/step - loss: 0.0104 - accuracy: 0.9969 - val_loss: 0.5177 - val_accuracy: 0.9128\n",
      "Epoch 13/20\n",
      "229/229 [==============================] - 2s 9ms/step - loss: 0.0092 - accuracy: 0.9972 - val_loss: 0.6100 - val_accuracy: 0.9125\n",
      "Epoch 14/20\n",
      "229/229 [==============================] - 2s 9ms/step - loss: 0.0103 - accuracy: 0.9964 - val_loss: 0.5543 - val_accuracy: 0.9114\n",
      "Epoch 15/20\n",
      "229/229 [==============================] - 2s 9ms/step - loss: 0.0070 - accuracy: 0.9978 - val_loss: 0.6094 - val_accuracy: 0.9106\n",
      "Epoch 16/20\n",
      "229/229 [==============================] - 2s 9ms/step - loss: 0.0070 - accuracy: 0.9976 - val_loss: 0.6084 - val_accuracy: 0.9100\n",
      "Epoch 17/20\n",
      "229/229 [==============================] - 2s 9ms/step - loss: 0.0080 - accuracy: 0.9977 - val_loss: 0.6202 - val_accuracy: 0.9114\n",
      "Epoch 18/20\n",
      "229/229 [==============================] - 2s 9ms/step - loss: 0.0059 - accuracy: 0.9982 - val_loss: 0.6699 - val_accuracy: 0.9087\n",
      "Epoch 19/20\n",
      "229/229 [==============================] - 2s 9ms/step - loss: 0.0060 - accuracy: 0.9980 - val_loss: 0.6970 - val_accuracy: 0.9117\n",
      "Epoch 20/20\n",
      "229/229 [==============================] - 2s 9ms/step - loss: 0.0055 - accuracy: 0.9979 - val_loss: 0.6741 - val_accuracy: 0.9130\n"
     ]
    },
    {
     "data": {
      "text/plain": [
       "<keras.callbacks.History at 0x27f4ac80eb0>"
      ]
     },
     "execution_count": 24,
     "metadata": {},
     "output_type": "execute_result"
    }
   ],
   "source": [
    "model.fit(X_train,y_train,validation_data=(X_test,y_test),epochs=20,batch_size=64)"
   ]
  },
  {
   "cell_type": "code",
   "execution_count": 25,
   "id": "3ad999e9",
   "metadata": {},
   "outputs": [
    {
     "name": "stdout",
     "output_type": "stream",
     "text": [
      "115/115 [==============================] - 1s 3ms/step\n"
     ]
    }
   ],
   "source": [
    "y_pred=model.predict(X_test)"
   ]
  },
  {
   "cell_type": "code",
   "execution_count": 26,
   "id": "2222857d",
   "metadata": {},
   "outputs": [
    {
     "data": {
      "text/plain": [
       "array([[1.],\n",
       "       [0.],\n",
       "       [0.],\n",
       "       ...,\n",
       "       [1.],\n",
       "       [0.],\n",
       "       [1.]], dtype=float32)"
      ]
     },
     "execution_count": 26,
     "metadata": {},
     "output_type": "execute_result"
    }
   ],
   "source": [
    "y_pred.round()"
   ]
  },
  {
   "cell_type": "code",
   "execution_count": 27,
   "id": "97ab44a1",
   "metadata": {},
   "outputs": [
    {
     "data": {
      "text/plain": [
       "array([[1881,  201],\n",
       "       [ 117, 1458]], dtype=int64)"
      ]
     },
     "execution_count": 27,
     "metadata": {},
     "output_type": "execute_result"
    }
   ],
   "source": [
    "from sklearn.metrics import confusion_matrix\n",
    "confusion_matrix(y_test,y_pred.round())"
   ]
  },
  {
   "cell_type": "code",
   "execution_count": 28,
   "id": "f2a12bb6",
   "metadata": {},
   "outputs": [
    {
     "data": {
      "text/plain": [
       "0.9130434782608695"
      ]
     },
     "execution_count": 28,
     "metadata": {},
     "output_type": "execute_result"
    }
   ],
   "source": [
    "from sklearn.metrics import accuracy_score\n",
    "accuracy_score(y_test,y_pred.round())"
   ]
  }
 ],
 "metadata": {
  "kernelspec": {
   "display_name": "Python 3 (ipykernel)",
   "language": "python",
   "name": "python3"
  },
  "language_info": {
   "codemirror_mode": {
    "name": "ipython",
    "version": 3
   },
   "file_extension": ".py",
   "mimetype": "text/x-python",
   "name": "python",
   "nbconvert_exporter": "python",
   "pygments_lexer": "ipython3",
   "version": "3.9.13"
  }
 },
 "nbformat": 4,
 "nbformat_minor": 5
}
